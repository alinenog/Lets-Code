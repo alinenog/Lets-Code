{
 "cells": [
  {
   "cell_type": "markdown",
   "metadata": {},
   "source": [
    "# Exercícios Python Basic Lets Code - modulo I"
   ]
  },
  {
   "cell_type": "markdown",
   "metadata": {},
   "source": [
    "### Variáveis"
   ]
  },
  {
   "cell_type": "code",
   "execution_count": 20,
   "metadata": {},
   "outputs": [
    {
     "name": "stdout",
     "output_type": "stream",
     "text": [
      "String : Aline\n",
      "Inteiro : 5\n",
      "Float : 2.3\n",
      "Bool : True\n"
     ]
    }
   ],
   "source": [
    "x = 5\n",
    "y = 'Aline'\n",
    "z = True\n",
    "j= 2.3\n",
    "print(f'String : {y}')\n",
    "print(f'Inteiro : {x}')\n",
    "print(f'Float : {j}')\n",
    "print(f'Bool : {z}')\n"
   ]
  },
  {
   "cell_type": "code",
   "execution_count": 22,
   "metadata": {},
   "outputs": [
    {
     "name": "stdout",
     "output_type": "stream",
     "text": [
      "<class 'str'>\n",
      "<class 'int'>\n",
      "<class 'float'>\n",
      "<class 'bool'>\n"
     ]
    }
   ],
   "source": [
    "print(type(y))\n",
    "print(type(x))\n",
    "print(type(j))\n",
    "print(type(z))\n"
   ]
  },
  {
   "cell_type": "markdown",
   "metadata": {},
   "source": [
    "### Operadores aritimeticos"
   ]
  },
  {
   "cell_type": "code",
   "execution_count": 23,
   "metadata": {},
   "outputs": [],
   "source": [
    "#Mesmo ambos inteiors a saída será float\n",
    "x = 50\n",
    "y = 2\n"
   ]
  },
  {
   "cell_type": "code",
   "execution_count": 25,
   "metadata": {},
   "outputs": [
    {
     "name": "stdout",
     "output_type": "stream",
     "text": [
      "52\n",
      "48\n",
      "100\n",
      "25.0\n"
     ]
    }
   ],
   "source": [
    "#Adição \n",
    "print(x + y )\n",
    "\n",
    "#Subtração \n",
    "print(x - y )\n",
    "\n",
    "#Multiplicação \n",
    "print(x * y )\n",
    "\n",
    "#Divisão\n",
    "print(x / y )"
   ]
  },
  {
   "cell_type": "code",
   "execution_count": 26,
   "metadata": {},
   "outputs": [
    {
     "name": "stdout",
     "output_type": "stream",
     "text": [
      "2500\n",
      "25\n",
      "0\n"
     ]
    }
   ],
   "source": [
    "#Exponênciação\n",
    "print(x ** y )\n",
    "\n",
    "#Divisão inteira\n",
    "print(x // y )\n",
    "\n",
    "#Resto da divisão \n",
    "print(x % y )"
   ]
  },
  {
   "cell_type": "markdown",
   "metadata": {},
   "source": [
    "### Operadores lógicos NOT , AND , OR"
   ]
  },
  {
   "cell_type": "code",
   "execution_count": 27,
   "metadata": {},
   "outputs": [],
   "source": [
    "tem_cafe = True\n",
    "tem_pao = False"
   ]
  },
  {
   "cell_type": "code",
   "execution_count": 30,
   "metadata": {},
   "outputs": [
    {
     "name": "stdout",
     "output_type": "stream",
     "text": [
      "False\n",
      "True\n",
      "False\n"
     ]
    }
   ],
   "source": [
    "print(not tem_cafe)\n",
    "print(tem_cafe or tem_pao)\n",
    "print(tem_cafe and tem_pao)"
   ]
  },
  {
   "cell_type": "markdown",
   "metadata": {},
   "source": [
    "### Operadores relacionais ou comparação "
   ]
  },
  {
   "cell_type": "code",
   "execution_count": 31,
   "metadata": {},
   "outputs": [],
   "source": [
    "dollar = 1\n",
    "real = 5.6"
   ]
  },
  {
   "cell_type": "code",
   "execution_count": 33,
   "metadata": {},
   "outputs": [
    {
     "name": "stdout",
     "output_type": "stream",
     "text": [
      "False\n",
      "True\n",
      "False\n",
      "False\n",
      "True\n",
      "True\n"
     ]
    }
   ],
   "source": [
    "print(dollar > real)\n",
    "print(dollar < real)\n",
    "print(dollar == real)\n",
    "print(dollar >= real)\n",
    "print(dollar <= real)\n",
    "print(dollar != real)"
   ]
  },
  {
   "cell_type": "markdown",
   "metadata": {},
   "source": [
    "### Estruturas sequênciais "
   ]
  },
  {
   "cell_type": "code",
   "execution_count": 35,
   "metadata": {},
   "outputs": [
    {
     "name": "stdout",
     "output_type": "stream",
     "text": [
      "28 <class 'str'>\n"
     ]
    }
   ],
   "source": [
    "idade = input('Informe a sua idade: ')\n",
    "print(idade, type(idade))"
   ]
  },
  {
   "cell_type": "code",
   "execution_count": 36,
   "metadata": {},
   "outputs": [
    {
     "name": "stdout",
     "output_type": "stream",
     "text": [
      "36 <class 'int'>\n"
     ]
    }
   ],
   "source": [
    "idade = int(input('Informe a sua idade: '))\n",
    "print(idade, type(idade))"
   ]
  },
  {
   "cell_type": "code",
   "execution_count": 37,
   "metadata": {},
   "outputs": [
    {
     "name": "stdout",
     "output_type": "stream",
     "text": [
      "123.25\n",
      "123.25\n",
      "False\n",
      "True\n",
      "False\n",
      "True\n"
     ]
    }
   ],
   "source": [
    "print(float('123.25'))\n",
    "print(str(123.25))\n",
    "print(bool(''))\n",
    "print(bool('abcd'))\n",
    "print(bool(0))\n",
    "print(bool(-2))"
   ]
  },
  {
   "cell_type": "code",
   "execution_count": 38,
   "metadata": {},
   "outputs": [
    {
     "name": "stdout",
     "output_type": "stream",
     "text": [
      "O montante que você pode economizar ao fim do ano é de : 36000.0\n"
     ]
    }
   ],
   "source": [
    "salario_mensal = input('Digite o valor do seu salario mensal: ')\n",
    "salario_mensal = float(salario_mensal) #conversão de str para int\n",
    "\n",
    "gasto_mensal = input('Digite o valor do seu gasto mensal em média:') \n",
    "gasto_mensal = float(gasto_mensal) #conversão de str para int\n",
    "\n",
    "salario_total = salario_mensal * 12\n",
    "gasto_total = gasto_mensal * 12\n",
    "\n",
    "montante_economizado = salario_total - gasto_total\n",
    "print(f'O montante que você pode economizar ao fim do ano é de : {montante_economizado}')"
   ]
  },
  {
   "cell_type": "markdown",
   "metadata": {},
   "source": [
    "### Estruturas Condicionais"
   ]
  },
  {
   "cell_type": "code",
   "execution_count": 2,
   "metadata": {},
   "outputs": [
    {
     "name": "stdout",
     "output_type": "stream",
     "text": [
      "Pegue o ônibus!\n"
     ]
    }
   ],
   "source": [
    "valor_passagem = 4.30\n",
    "\n",
    "valor_corrida = input('Qual valor da corrida? ')\n",
    "\n",
    "if float(valor_corrida) <= valor_passagem * 5:\n",
    "    print('Pague a corrida!')\n",
    "if float(valor_corrida) > valor_passagem * 5:\n",
    "    print('Pegue o ônibus!')    "
   ]
  },
  {
   "cell_type": "code",
   "execution_count": 5,
   "metadata": {},
   "outputs": [
    {
     "name": "stdout",
     "output_type": "stream",
     "text": [
      "Pegue o ônibus!\n"
     ]
    }
   ],
   "source": [
    "valor_passagem = 4.30\n",
    "\n",
    "valor_corrida = input('Qual valor da corrida? ')\n",
    "\n",
    "if float(valor_corrida) <= valor_passagem * 5:\n",
    "    print('Pague a corrida!')\n",
    "else:\n",
    "    print('Pegue o ônibus!')   "
   ]
  },
  {
   "cell_type": "code",
   "execution_count": 8,
   "metadata": {},
   "outputs": [
    {
     "name": "stdout",
     "output_type": "stream",
     "text": [
      "Pegue o ônibus!\n"
     ]
    }
   ],
   "source": [
    "valor_passagem = 4.30\n",
    "\n",
    "valor_corrida = input('Qual valor da corrida? ')\n",
    "\n",
    "if float(valor_corrida) <= valor_passagem * 5:\n",
    "    print('Pague a corrida!')\n",
    "else:\n",
    "    if float(valor_corrida) <= valor_passagem * 6 : \n",
    "        print('Aguarde um momento, o valor pode baixar!')  \n",
    "    else:\n",
    "        print('Pegue o ônibus!')   "
   ]
  },
  {
   "cell_type": "code",
   "execution_count": 8,
   "metadata": {},
   "outputs": [
    {
     "name": "stdout",
     "output_type": "stream",
     "text": [
      "Aguarde um momento, o valor pode baixar!\n"
     ]
    }
   ],
   "source": [
    "valor_passagem = 4.30\n",
    "\n",
    "valor_corrida = input('Qual valor da corrida? ')\n",
    "\n",
    "if float(valor_corrida) <= valor_passagem * 5:\n",
    "    print('Pague a corrida!')\n",
    "elif float(valor_corrida) <= valor_passagem * 6 : \n",
    "    print('Aguarde um momento, o valor pode baixar!')  \n",
    "else:\n",
    "    print('Pegue o ônibus!')   "
   ]
  },
  {
   "cell_type": "markdown",
   "metadata": {},
   "source": [
    "### Estrutura de repetição While"
   ]
  },
  {
   "cell_type": "code",
   "execution_count": 13,
   "metadata": {},
   "outputs": [
    {
     "name": "stdout",
     "output_type": "stream",
     "text": [
      "1 item limpo\n",
      "2 item limpos\n",
      "3 item limpos\n",
      "4 item limpos\n",
      "5 item limpos\n",
      "6 item limpos\n",
      "7 item limpos\n",
      "8 item limpos\n",
      "9 item limpos\n",
      "10 item limpos\n",
      "Fim da repetição do bloco while\n"
     ]
    }
   ],
   "source": [
    "contador =  0\n",
    "\n",
    "while contador < 10:\n",
    "    contador += 1\n",
    "    if contador == 1:\n",
    "        print(contador,'item limpo')\n",
    "    else:\n",
    "        print(contador,'item limpos')    \n",
    "print('Fim da repetição do bloco while')        "
   ]
  },
  {
   "cell_type": "code",
   "execution_count": 14,
   "metadata": {},
   "outputs": [
    {
     "name": "stdout",
     "output_type": "stream",
     "text": [
      "1 item limpo\n",
      "2 item limpos\n",
      "3 item limpos\n",
      "4 item limpos\n",
      "5 item limpos\n",
      "6 item limpos\n",
      "7 item limpos\n",
      "8 item limpos\n",
      "9 item limpos\n",
      "10 item limpos\n",
      "Fim da repetição do bloco while\n"
     ]
    }
   ],
   "source": [
    "contador =  0\n",
    "\n",
    "while True: \n",
    "    if contador < 10:\n",
    "        contador = contador + 1 \n",
    "        if contador == 1:\n",
    "            print(contador,'item limpo')\n",
    "        else:\n",
    "           print(contador,'item limpos')  \n",
    "    else:       \n",
    "      break\n",
    "print('Fim da repetição do bloco while')     "
   ]
  },
  {
   "cell_type": "code",
   "execution_count": 15,
   "metadata": {},
   "outputs": [
    {
     "name": "stdout",
     "output_type": "stream",
     "text": [
      "Acesso permitido\n"
     ]
    }
   ],
   "source": [
    "texto = input('Digite a sua senha: ')\n",
    "\n",
    "while texto != 'LetsCode':\n",
    "    texto = input('Senha invalida. Tente novamente')\n",
    "print('Acesso permitido')    "
   ]
  },
  {
   "cell_type": "code",
   "execution_count": 16,
   "metadata": {},
   "outputs": [
    {
     "name": "stdout",
     "output_type": "stream",
     "text": [
      "2 item limpos\n",
      "3 item limpos\n",
      "4 item limpos\n",
      "5 item limpos\n",
      "6 item limpos\n",
      "7 item limpos\n",
      "8 item limpos\n",
      "9 item limpos\n",
      "10 item limpos\n",
      "Fim da repetição do bloco while\n"
     ]
    }
   ],
   "source": [
    "contador =  0\n",
    "\n",
    "while contador < 10:\n",
    "    contador = contador + 1\n",
    "    if contador == 1:\n",
    "        continue\n",
    "    print(contador,'item limpos')    \n",
    "print('Fim da repetição do bloco while')       "
   ]
  },
  {
   "cell_type": "markdown",
   "metadata": {},
   "source": [
    "### Trabalhando com data"
   ]
  },
  {
   "cell_type": "code",
   "execution_count": 4,
   "metadata": {},
   "outputs": [
    {
     "name": "stdout",
     "output_type": "stream",
     "text": [
      "12:06:21.000007 Hora: minuto:segundo.microsegundo\n",
      "----\n",
      "2020-04-25 Ano-mês-dia\n",
      "----\n",
      "2020-04-25 12:06:21.000007 Ano-mês,dia Hora:minuto:segundo.microsegundo\n"
     ]
    }
   ],
   "source": [
    "import datetime as dt \n",
    "\n",
    "#Modelo de formatação \n",
    "print(dt.time(12, 6, 21, 7), 'Hora: minuto:segundo.microsegundo')\n",
    "print('----')\n",
    "print(dt.date(2020, 4, 25),'Ano-mês-dia')\n",
    "print('----')\n",
    "print(dt.datetime(2020, 4, 25, 12, 6, 21, 7), 'Ano-mês,dia Hora:minuto:segundo.microsegundo')"
   ]
  },
  {
   "cell_type": "code",
   "execution_count": 6,
   "metadata": {},
   "outputs": [
    {
     "name": "stdout",
     "output_type": "stream",
     "text": [
      "7 days, 0:00:00\n",
      "7\n",
      "0\n",
      "0\n"
     ]
    }
   ],
   "source": [
    "#Trabalhando com data (Quanto tempo tem entre essas duas datas)\n",
    "\n",
    "natal = dt.date(2020, 12, 25)\n",
    "reveillon = dt.date(2021, 1, 1)\n",
    "\n",
    "print(reveillon - natal)\n",
    "print((reveillon - natal).days)\n",
    "print((reveillon - natal).seconds)\n",
    "print((reveillon - natal).microseconds)"
   ]
  }
 ],
 "metadata": {
  "interpreter": {
   "hash": "916dbcbb3f70747c44a77c7bcd40155683ae19c65e1c03b4aa3499c5328201f1"
  },
  "kernelspec": {
   "display_name": "Python 3.9.2 64-bit",
   "language": "python",
   "name": "python3"
  },
  "language_info": {
   "codemirror_mode": {
    "name": "ipython",
    "version": 3
   },
   "file_extension": ".py",
   "mimetype": "text/x-python",
   "name": "python",
   "nbconvert_exporter": "python",
   "pygments_lexer": "ipython3",
   "version": "3.10.2"
  },
  "orig_nbformat": 4
 },
 "nbformat": 4,
 "nbformat_minor": 2
}
